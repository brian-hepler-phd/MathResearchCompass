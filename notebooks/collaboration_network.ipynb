{
 "cells": [
  {
   "cell_type": "code",
   "execution_count": 1,
   "id": "9d5a6ee6-575a-48ec-aa40-a179ddde32d9",
   "metadata": {},
   "outputs": [],
   "source": [
    "import pandas as pd"
   ]
  },
  {
   "cell_type": "code",
   "execution_count": 5,
   "id": "dd3538ce",
   "metadata": {},
   "outputs": [
    {
     "name": "stdout",
     "output_type": "stream",
     "text": [
      "<class 'pandas.core.frame.DataFrame'>\n",
      "RangeIndex: 121391 entries, 0 to 121390\n",
      "Data columns (total 8 columns):\n",
      " #   Column          Non-Null Count   Dtype \n",
      "---  ------          --------------   ----- \n",
      " 0   Unnamed: 0      121391 non-null  int64 \n",
      " 1   id              121391 non-null  object\n",
      " 2   topic           121391 non-null  int64 \n",
      " 3   title           121391 non-null  object\n",
      " 4   authors_parsed  121391 non-null  object\n",
      " 5   date            121391 non-null  object\n",
      " 6   year            121391 non-null  int64 \n",
      " 7   quarter         121391 non-null  int64 \n",
      "dtypes: int64(4), object(4)\n",
      "memory usage: 7.4+ MB\n"
     ]
    },
    {
     "name": "stderr",
     "output_type": "stream",
     "text": [
      "/var/folders/kx/_tc54hxs4vvg1vg8844xqvqm0000gn/T/ipykernel_70097/4231604317.py:1: DtypeWarning: Columns (1) have mixed types. Specify dtype option on import or set low_memory=False.\n",
      "  author_df = pd.read_csv('../data/cleaned/author_topic_networks.csv')\n"
     ]
    }
   ],
   "source": [
    "author_df = pd.read_csv('../data/cleaned/author_topic_networks.csv')\n",
    "author_df.info()"
   ]
  },
  {
   "cell_type": "code",
   "execution_count": 6,
   "id": "a2a2a531",
   "metadata": {},
   "outputs": [
    {
     "name": "stdout",
     "output_type": "stream",
     "text": [
      "<class 'pandas.core.frame.DataFrame'>\n",
      "RangeIndex: 121391 entries, 0 to 121390\n",
      "Data columns (total 6 columns):\n",
      " #   Column   Non-Null Count   Dtype \n",
      "---  ------   --------------   ----- \n",
      " 0   id       121391 non-null  object\n",
      " 1   topic    121391 non-null  int64 \n",
      " 2   title    121391 non-null  object\n",
      " 3   authors  121391 non-null  object\n",
      " 4   date     121391 non-null  object\n",
      " 5   url      121391 non-null  object\n",
      "dtypes: int64(1), object(5)\n",
      "memory usage: 5.6+ MB\n"
     ]
    }
   ],
   "source": [
    "df = pd.read_csv('../data/cleaned/compact_docs_with_topics.csv')\n",
    "df.info()"
   ]
  },
  {
   "cell_type": "code",
   "execution_count": 7,
   "id": "2519a974",
   "metadata": {},
   "outputs": [],
   "source": [
    "import json\n",
    "\n",
    "def get_primary_categories(json_file=\"../data/cleaned/topic_category_distribution.json\"):\n",
    "    \"\"\"Return dict mapping topic_id -> primary_category.\"\"\"\n",
    "    with open(json_file, 'r') as f:\n",
    "        data = json.load(f)\n",
    "    \n",
    "    return {int(topic_id): max(categories.items(), key=lambda x: x[1])[0] \n",
    "            for topic_id, categories in data.items()}"
   ]
  },
  {
   "cell_type": "code",
   "execution_count": 8,
   "id": "898b48e5",
   "metadata": {},
   "outputs": [],
   "source": [
    "primary_dict = get_primary_categories()"
   ]
  },
  {
   "cell_type": "code",
   "execution_count": 10,
   "id": "8a85e5d6",
   "metadata": {},
   "outputs": [
    {
     "data": {
      "text/plain": [
       "'math.AP'"
      ]
     },
     "execution_count": 10,
     "metadata": {},
     "output_type": "execute_result"
    }
   ],
   "source": [
    "primary_dict[1937]"
   ]
  },
  {
   "cell_type": "code",
   "execution_count": 11,
   "id": "5d0cd65c",
   "metadata": {},
   "outputs": [],
   "source": [
    "def add_primary_categories_to_json(input_file, output_file=None):\n",
    "    \"\"\"Add primary_category field to each topic in the JSON file.\"\"\"\n",
    "    if output_file is None:\n",
    "        output_file = input_file  # Overwrite original\n",
    "    \n",
    "    # Get primary categories\n",
    "    primary_cats = get_primary_categories()\n",
    "    \n",
    "    # Load the analysis JSON\n",
    "    with open(input_file, 'r') as f:\n",
    "        data = json.load(f)\n",
    "    \n",
    "    # Add primary_category to each topic\n",
    "    for topic_id, topic_data in data.items():\n",
    "        topic_data['primary_category'] = primary_cats.get(int(topic_id), 'unknown')\n",
    "    \n",
    "    # Save back to file\n",
    "    with open(output_file, 'w') as f:\n",
    "        json.dump(data, f, indent=2)\n",
    "    \n",
    "    print(f\"Added primary_category to {len(data)} topics in {output_file}\")\n"
   ]
  },
  {
   "cell_type": "code",
   "execution_count": 12,
   "id": "238d0c49",
   "metadata": {},
   "outputs": [
    {
     "name": "stdout",
     "output_type": "stream",
     "text": [
      "Added primary_category to 1938 topics in ../results/collaboration_analysis/topic_analysis_10metrics_20250604_115101.json\n"
     ]
    }
   ],
   "source": [
    "add_primary_categories_to_json(\"../results/collaboration_analysis/topic_analysis_10metrics_20250604_115101.json\")"
   ]
  },
  {
   "cell_type": "code",
   "execution_count": null,
   "id": "a62e3fee",
   "metadata": {},
   "outputs": [],
   "source": []
  }
 ],
 "metadata": {
  "kernelspec": {
   "display_name": "venv",
   "language": "python",
   "name": "python3"
  },
  "language_info": {
   "codemirror_mode": {
    "name": "ipython",
    "version": 3
   },
   "file_extension": ".py",
   "mimetype": "text/x-python",
   "name": "python",
   "nbconvert_exporter": "python",
   "pygments_lexer": "ipython3",
   "version": "3.12.7"
  }
 },
 "nbformat": 4,
 "nbformat_minor": 5
}
