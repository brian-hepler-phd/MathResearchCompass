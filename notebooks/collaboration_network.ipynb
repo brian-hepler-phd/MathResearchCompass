{
 "cells": [
  {
   "cell_type": "code",
   "execution_count": 1,
   "id": "9d5a6ee6-575a-48ec-aa40-a179ddde32d9",
   "metadata": {},
   "outputs": [],
   "source": [
    "import pandas as pd"
   ]
  },
  {
   "cell_type": "code",
   "execution_count": 2,
   "id": "392f0337",
   "metadata": {},
   "outputs": [],
   "source": [
    "df = pd.read_parquet('data/cleaned/papers_by_topic_no_outliers.parquet')"
   ]
  },
  {
   "cell_type": "code",
   "execution_count": 3,
   "id": "6c56d119",
   "metadata": {},
   "outputs": [
    {
     "name": "stdout",
     "output_type": "stream",
     "text": [
      "<class 'pandas.core.frame.DataFrame'>\n",
      "RangeIndex: 121391 entries, 0 to 121390\n",
      "Data columns (total 9 columns):\n",
      " #   Column             Non-Null Count   Dtype \n",
      "---  ------             --------------   ----- \n",
      " 0   id                 121391 non-null  object\n",
      " 1   title              121391 non-null  object\n",
      " 2   categories         121391 non-null  object\n",
      " 3   abstract           121391 non-null  object\n",
      " 4   update_date        121391 non-null  object\n",
      " 5   authors_parsed     121391 non-null  object\n",
      " 6   topic              121391 non-null  int64 \n",
      " 7   short_label        121391 non-null  object\n",
      " 8   descriptive_label  121391 non-null  object\n",
      "dtypes: int64(1), object(8)\n",
      "memory usage: 8.3+ MB\n"
     ]
    }
   ],
   "source": [
    "df.info()"
   ]
  },
  {
   "cell_type": "code",
   "execution_count": 4,
   "id": "3027679f",
   "metadata": {},
   "outputs": [
    {
     "data": {
      "text/plain": [
       "0    2021-05-24\n",
       "1    2022-03-21\n",
       "2    2022-12-22\n",
       "3    2021-10-05\n",
       "4    2024-08-29\n",
       "5    2020-01-03\n",
       "6    2020-07-30\n",
       "7    2020-01-30\n",
       "8    2021-11-02\n",
       "9    2020-05-04\n",
       "Name: update_date, dtype: object"
      ]
     },
     "execution_count": 4,
     "metadata": {},
     "output_type": "execute_result"
    }
   ],
   "source": [
    "df['update_date'].head(10)"
   ]
  },
  {
   "cell_type": "code",
   "execution_count": 6,
   "id": "681fba9c",
   "metadata": {},
   "outputs": [],
   "source": [
    "from datetime import datetime"
   ]
  },
  {
   "cell_type": "code",
   "execution_count": 11,
   "id": "988ba40b",
   "metadata": {},
   "outputs": [],
   "source": [
    "df['date'] = pd.to_datetime(df['update_date'], format='%Y-%m-%d')"
   ]
  },
  {
   "cell_type": "code",
   "execution_count": 12,
   "id": "6902756e",
   "metadata": {},
   "outputs": [
    {
     "name": "stdout",
     "output_type": "stream",
     "text": [
      "<class 'pandas.core.frame.DataFrame'>\n",
      "RangeIndex: 121391 entries, 0 to 121390\n",
      "Data columns (total 10 columns):\n",
      " #   Column             Non-Null Count   Dtype         \n",
      "---  ------             --------------   -----         \n",
      " 0   id                 121391 non-null  object        \n",
      " 1   title              121391 non-null  object        \n",
      " 2   categories         121391 non-null  object        \n",
      " 3   abstract           121391 non-null  object        \n",
      " 4   update_date        121391 non-null  object        \n",
      " 5   authors_parsed     121391 non-null  object        \n",
      " 6   topic              121391 non-null  int64         \n",
      " 7   short_label        121391 non-null  object        \n",
      " 8   descriptive_label  121391 non-null  object        \n",
      " 9   date               121391 non-null  datetime64[ns]\n",
      "dtypes: datetime64[ns](1), int64(1), object(8)\n",
      "memory usage: 9.3+ MB\n"
     ]
    }
   ],
   "source": [
    "df.info()"
   ]
  },
  {
   "cell_type": "code",
   "execution_count": 13,
   "id": "4e68ec93",
   "metadata": {},
   "outputs": [],
   "source": [
    "author_cols = ['id','topic','title','authors_parsed','date']\n",
    "df = df[author_cols]"
   ]
  },
  {
   "cell_type": "code",
   "execution_count": 16,
   "id": "26f9fae1",
   "metadata": {},
   "outputs": [],
   "source": [
    "df['year'] = df['date'].dt.year\n",
    "df['quarter'] = df['date'].dt.quarter"
   ]
  },
  {
   "cell_type": "code",
   "execution_count": 29,
   "id": "47ee5c0c",
   "metadata": {},
   "outputs": [
    {
     "data": {
      "text/html": [
       "<div>\n",
       "<style scoped>\n",
       "    .dataframe tbody tr th:only-of-type {\n",
       "        vertical-align: middle;\n",
       "    }\n",
       "\n",
       "    .dataframe tbody tr th {\n",
       "        vertical-align: top;\n",
       "    }\n",
       "\n",
       "    .dataframe thead th {\n",
       "        text-align: right;\n",
       "    }\n",
       "</style>\n",
       "<table border=\"1\" class=\"dataframe\">\n",
       "  <thead>\n",
       "    <tr style=\"text-align: right;\">\n",
       "      <th></th>\n",
       "      <th>id</th>\n",
       "      <th>topic</th>\n",
       "      <th>title</th>\n",
       "      <th>authors_parsed</th>\n",
       "      <th>date</th>\n",
       "      <th>year</th>\n",
       "      <th>quarter</th>\n",
       "    </tr>\n",
       "  </thead>\n",
       "  <tbody>\n",
       "    <tr>\n",
       "      <th>308</th>\n",
       "      <td>1201.4055</td>\n",
       "      <td>0</td>\n",
       "      <td>Geometric approach to nonvariational singular ...</td>\n",
       "      <td>[['Araújo', 'Damião', ''], ['Teixeira', 'Eduar...</td>\n",
       "      <td>2020-01-06</td>\n",
       "      <td>2020</td>\n",
       "      <td>1</td>\n",
       "    </tr>\n",
       "    <tr>\n",
       "      <th>651</th>\n",
       "      <td>1305.5098</td>\n",
       "      <td>0</td>\n",
       "      <td>Perturbations of local maxima and comparison p...</td>\n",
       "      <td>[['Feehan', 'Paul M. N.', '']]</td>\n",
       "      <td>2020-04-24</td>\n",
       "      <td>2020</td>\n",
       "      <td>2</td>\n",
       "    </tr>\n",
       "    <tr>\n",
       "      <th>759</th>\n",
       "      <td>1310.2752</td>\n",
       "      <td>0</td>\n",
       "      <td>Global Calder\\`on &amp; Zygmund theory for nonline...</td>\n",
       "      <td>[['Bögelein', 'Verena', '']]</td>\n",
       "      <td>2024-06-05</td>\n",
       "      <td>2024</td>\n",
       "      <td>2</td>\n",
       "    </tr>\n",
       "    <tr>\n",
       "      <th>806</th>\n",
       "      <td>1311.3233</td>\n",
       "      <td>0</td>\n",
       "      <td>Combination and mean width rearrangements of s...</td>\n",
       "      <td>[['Salani', 'Paolo', '']]</td>\n",
       "      <td>2021-03-29</td>\n",
       "      <td>2021</td>\n",
       "      <td>1</td>\n",
       "    </tr>\n",
       "    <tr>\n",
       "      <th>860</th>\n",
       "      <td>1401.1355</td>\n",
       "      <td>0</td>\n",
       "      <td>A topological approach to the existence and mu...</td>\n",
       "      <td>[['Infante', 'Gennaro', ''], ['Maciejewski', '...</td>\n",
       "      <td>2021-02-09</td>\n",
       "      <td>2021</td>\n",
       "      <td>1</td>\n",
       "    </tr>\n",
       "  </tbody>\n",
       "</table>\n",
       "</div>"
      ],
      "text/plain": [
       "            id  topic                                              title  \\\n",
       "308  1201.4055      0  Geometric approach to nonvariational singular ...   \n",
       "651  1305.5098      0  Perturbations of local maxima and comparison p...   \n",
       "759  1310.2752      0  Global Calder\\`on & Zygmund theory for nonline...   \n",
       "806  1311.3233      0  Combination and mean width rearrangements of s...   \n",
       "860  1401.1355      0  A topological approach to the existence and mu...   \n",
       "\n",
       "                                        authors_parsed       date  year  \\\n",
       "308  [['Araújo', 'Damião', ''], ['Teixeira', 'Eduar... 2020-01-06  2020   \n",
       "651                     [['Feehan', 'Paul M. N.', '']] 2020-04-24  2020   \n",
       "759                       [['Bögelein', 'Verena', '']] 2024-06-05  2024   \n",
       "806                          [['Salani', 'Paolo', '']] 2021-03-29  2021   \n",
       "860  [['Infante', 'Gennaro', ''], ['Maciejewski', '... 2021-02-09  2021   \n",
       "\n",
       "     quarter  \n",
       "308        1  \n",
       "651        2  \n",
       "759        2  \n",
       "806        1  \n",
       "860        1  "
      ]
     },
     "execution_count": 29,
     "metadata": {},
     "output_type": "execute_result"
    }
   ],
   "source": []
  },
  {
   "cell_type": "code",
   "execution_count": 31,
   "id": "71ea53c3",
   "metadata": {},
   "outputs": [],
   "source": [
    "df.to_csv('data/cleaned/author_topic_networks.csv')"
   ]
  },
  {
   "cell_type": "code",
   "execution_count": 26,
   "id": "a57d176a",
   "metadata": {},
   "outputs": [],
   "source": [
    "import networkx as nx"
   ]
  },
  {
   "cell_type": "code",
   "execution_count": 32,
   "id": "d3278537",
   "metadata": {},
   "outputs": [],
   "source": [
    "import pandas as pd\n",
    "\n",
    "sample_df = pd.read_csv('results/network_analysis/exports/network_analysis_summary_20250523_160318.csv')"
   ]
  },
  {
   "cell_type": "code",
   "execution_count": 33,
   "id": "b70bfde7",
   "metadata": {},
   "outputs": [
    {
     "name": "stdout",
     "output_type": "stream",
     "text": [
      "<class 'pandas.core.frame.DataFrame'>\n",
      "RangeIndex: 1 entries, 0 to 0\n",
      "Data columns (total 17 columns):\n",
      " #   Column                   Non-Null Count  Dtype  \n",
      "---  ------                   --------------  -----  \n",
      " 0   topic_id                 1 non-null      int64  \n",
      " 1   total_papers             1 non-null      int64  \n",
      " 2   collab_papers            1 non-null      int64  \n",
      " 3   unique_authors           1 non-null      int64  \n",
      " 4   collaboration_edges      1 non-null      int64  \n",
      " 5   network_density          1 non-null      float64\n",
      " 6   largest_component_size   1 non-null      int64  \n",
      " 7   num_components           1 non-null      int64  \n",
      " 8   most_productive_author   1 non-null      object \n",
      " 9   max_author_papers        1 non-null      int64  \n",
      " 10  strongest_collab_weight  1 non-null      int64  \n",
      " 11  quarters_active          1 non-null      int64  \n",
      " 12  first_quarter            1 non-null      object \n",
      " 13  last_quarter             1 non-null      object \n",
      " 14  peak_quarter             1 non-null      object \n",
      " 15  peak_quarter_papers      1 non-null      int64  \n",
      " 16  analysis_timestamp       1 non-null      object \n",
      "dtypes: float64(1), int64(11), object(5)\n",
      "memory usage: 268.0+ bytes\n"
     ]
    }
   ],
   "source": [
    "sample_df.info()"
   ]
  },
  {
   "cell_type": "code",
   "execution_count": 34,
   "id": "37c40fe7",
   "metadata": {},
   "outputs": [
    {
     "data": {
      "text/html": [
       "<div>\n",
       "<style scoped>\n",
       "    .dataframe tbody tr th:only-of-type {\n",
       "        vertical-align: middle;\n",
       "    }\n",
       "\n",
       "    .dataframe tbody tr th {\n",
       "        vertical-align: top;\n",
       "    }\n",
       "\n",
       "    .dataframe thead th {\n",
       "        text-align: right;\n",
       "    }\n",
       "</style>\n",
       "<table border=\"1\" class=\"dataframe\">\n",
       "  <thead>\n",
       "    <tr style=\"text-align: right;\">\n",
       "      <th></th>\n",
       "      <th>topic_id</th>\n",
       "      <th>total_papers</th>\n",
       "      <th>collab_papers</th>\n",
       "      <th>unique_authors</th>\n",
       "      <th>collaboration_edges</th>\n",
       "      <th>network_density</th>\n",
       "      <th>largest_component_size</th>\n",
       "      <th>num_components</th>\n",
       "      <th>most_productive_author</th>\n",
       "      <th>max_author_papers</th>\n",
       "      <th>strongest_collab_weight</th>\n",
       "      <th>quarters_active</th>\n",
       "      <th>first_quarter</th>\n",
       "      <th>last_quarter</th>\n",
       "      <th>peak_quarter</th>\n",
       "      <th>peak_quarter_papers</th>\n",
       "      <th>analysis_timestamp</th>\n",
       "    </tr>\n",
       "  </thead>\n",
       "  <tbody>\n",
       "    <tr>\n",
       "      <th>0</th>\n",
       "      <td>0</td>\n",
       "      <td>1760</td>\n",
       "      <td>1760</td>\n",
       "      <td>2071</td>\n",
       "      <td>2991</td>\n",
       "      <td>0.001395</td>\n",
       "      <td>1095</td>\n",
       "      <td>325</td>\n",
       "      <td>Dušan D. Repovš</td>\n",
       "      <td>33</td>\n",
       "      <td>13</td>\n",
       "      <td>22</td>\n",
       "      <td>2020-Q1</td>\n",
       "      <td>2025-Q2</td>\n",
       "      <td>2024-Q4</td>\n",
       "      <td>128</td>\n",
       "      <td>2025-05-23T16:03:18.224788</td>\n",
       "    </tr>\n",
       "  </tbody>\n",
       "</table>\n",
       "</div>"
      ],
      "text/plain": [
       "   topic_id  total_papers  collab_papers  unique_authors  collaboration_edges  \\\n",
       "0         0          1760           1760            2071                 2991   \n",
       "\n",
       "   network_density  largest_component_size  num_components  \\\n",
       "0         0.001395                    1095             325   \n",
       "\n",
       "  most_productive_author  max_author_papers  strongest_collab_weight  \\\n",
       "0        Dušan D. Repovš                 33                       13   \n",
       "\n",
       "   quarters_active first_quarter last_quarter peak_quarter  \\\n",
       "0               22       2020-Q1      2025-Q2      2024-Q4   \n",
       "\n",
       "   peak_quarter_papers          analysis_timestamp  \n",
       "0                  128  2025-05-23T16:03:18.224788  "
      ]
     },
     "execution_count": 34,
     "metadata": {},
     "output_type": "execute_result"
    }
   ],
   "source": [
    "sample_df"
   ]
  },
  {
   "cell_type": "code",
   "execution_count": null,
   "id": "dd3538ce",
   "metadata": {},
   "outputs": [],
   "source": []
  }
 ],
 "metadata": {
  "kernelspec": {
   "display_name": "venv",
   "language": "python",
   "name": "python3"
  },
  "language_info": {
   "codemirror_mode": {
    "name": "ipython",
    "version": 3
   },
   "file_extension": ".py",
   "mimetype": "text/x-python",
   "name": "python",
   "nbconvert_exporter": "python",
   "pygments_lexer": "ipython3",
   "version": "3.12.7"
  }
 },
 "nbformat": 4,
 "nbformat_minor": 5
}
